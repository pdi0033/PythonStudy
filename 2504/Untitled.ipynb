{
 "cells": [
  {
   "cell_type": "code",
   "execution_count": null,
   "id": "ca8bc250-ddbc-40a2-b1c5-c62f77649e66",
   "metadata": {},
   "outputs": [
    {
     "name": "stdout",
     "output_type": "stream",
     "text": [
      "Hello World!!!\n",
      "출력을 하고자 할 때 사용한다.\n"
     ]
    }
   ],
   "source": [
    "print(\"Hello World!!!\")\n",
    "print(\"출력을 하고자 할 때 사용한다.\")"
   ]
  },
  {
   "cell_type": "code",
   "execution_count": 2,
   "id": "02291088-6a20-44ef-9596-8ecabbf7bd5a",
   "metadata": {},
   "outputs": [
    {
     "name": "stdout",
     "output_type": "stream",
     "text": [
      "11\n"
     ]
    }
   ],
   "source": [
    "print(5+6)"
   ]
  },
  {
   "cell_type": "markdown",
   "id": "ffc77306-825b-4edd-a189-6acb8676b8e8",
   "metadata": {},
   "source": [
    "변수란 컴퓨터의 기억 장소에 이름을 부여한 것을 말한다.   \n",
    "컴퓨터의 기억 공간에 이름을 부여하고 그 공간에 값을 저장하거나 읽어올 수 있다.   \n",
    "\n",
    "컴퓨터는 0과 1로 구성되어 있다.   \n",
    "1번지에 값 3을 넣고 2번지에 4를 넣고 하면 전부 기억 못한다.   \n",
    "기억 공간에 이름을 붙인다.   \n",
    "\n",
    "JAVA나 C언어라면 변수를 미리 선언해야 한다. ( 예. int a; )   \n",
    "보통의 인터프리터 언어는 변수를 미리 선언하지 않는다.   \n",
    "필요할 때 만들어서 쓰면 된다.   \n"
   ]
  },
  {
   "cell_type": "code",
   "execution_count": 3,
   "id": "574d556e-4f58-4019-bf7c-c1d6e3a2105a",
   "metadata": {},
   "outputs": [
    {
     "name": "stdout",
     "output_type": "stream",
     "text": [
      "10 20 30\n"
     ]
    }
   ],
   "source": [
    "a = 10   # a라는 변수에 값 10을 저장(할당) 하라.\n",
    "b = 20   # b라는 변수에 값 20을 저장(할당) 하라.\n",
    "c = a + b  # a의 값 10과 b의 값 20을 읽어와서 더한 뒤에 c에 넣어라.\n",
    "           # 좌변에는 변수만, 우변에는 아무거나 올 수 있다.\n",
    "print(a, b, c)   # a, b, c 변수의 값을 읽어서 화면에 출력하라."
   ]
  },
  {
   "cell_type": "code",
   "execution_count": 5,
   "id": "f169f50c-d150-4bc2-a28b-999f15e4ea83",
   "metadata": {},
   "outputs": [
    {
     "name": "stdout",
     "output_type": "stream",
     "text": [
      "a =  4\n",
      "b =  5\n"
     ]
    },
    {
     "name": "stdout",
     "output_type": "stream",
     "text": [
      "4 5 45\n",
      "4 5 9\n"
     ]
    }
   ],
   "source": [
    "# 값 입력하기 - 입력함수가 동시에 출력도 가능\n",
    "# input()에서 입력받은 것은 string(문자)로 받는다.\n",
    "a = input(\"a = \")\n",
    "b = input(\"b = \")\n",
    "c = a + b        # 모든 입력은 unicode다. 따라서 a도 b도 문자로 인식한다.\n",
    "print(a, b, c)   # 문자 + 문자 = 문자 덧붙이기\n",
    "\n",
    "d = int(a) + int(b)   # int는 문자(str)를 숫자(int)로 바꾼다.\n",
    "print(a, b, d)"
   ]
  },
  {
   "cell_type": "code",
   "execution_count": 8,
   "id": "0e09f92a-d466-48a7-9fc7-688eea832587",
   "metadata": {},
   "outputs": [
    {
     "name": "stdout",
     "output_type": "stream",
     "text": [
      "사각형의 가로, 세로를 입력받아 면적을 구합니다.\n"
     ]
    },
    {
     "name": "stdout",
     "output_type": "stream",
     "text": [
      "가로 :  4\n",
      "세로 :  6\n"
     ]
    },
    {
     "name": "stdout",
     "output_type": "stream",
     "text": [
      "사각형의 면적은 24 입니다.\n"
     ]
    }
   ],
   "source": [
    "# 사각형의 면적 구하기 (가로, 세로 입력받아서 면적을 구하고자 한다.)\n",
    "# 입력 데이터 : 가로, 세로\n",
    "# 출력 데이터 : 면적\n",
    "# 입력 -> 계산이나 출력을 생각하지 말자.\n",
    "\n",
    "print(\"사각형의 가로, 세로를 입력받아 면적을 구합니다.\")\n",
    "width = input(\"가로 : \")\n",
    "height = input(\"세로 : \")\n",
    "\n",
    "# 계산\n",
    "surface = int(width) * int(height)\n",
    "\n",
    "# 출력\n",
    "print(\"사각형의 면적은\", surface, \"입니다.\")"
   ]
  },
  {
   "cell_type": "code",
   "execution_count": 14,
   "id": "4d7d54e4-77ca-4af6-9588-fdf0f23bfab3",
   "metadata": {},
   "outputs": [
    {
     "name": "stdout",
     "output_type": "stream",
     "text": [
      "시간당 급여액과 근무시간을 입력받아 주급을 계산합니다.\n"
     ]
    },
    {
     "name": "stdout",
     "output_type": "stream",
     "text": [
      "주에 근무한 시간 :  20\n",
      "시간당 급여액 :  30000\n"
     ]
    },
    {
     "name": "stdout",
     "output_type": "stream",
     "text": [
      "주급은 600000 입니다.\n"
     ]
    }
   ],
   "source": [
    "# 주급 계산하기. 시간당 급여액하고 근무시간을 입력받아서 주급을 계산하기.\n",
    "\n",
    "print(\"시간당 급여액과 근무시간을 입력받아 주급을 계산합니다.\")\n",
    "work_time = input(\"주에 근무한 시간 : \")\n",
    "per_pay = input(\"시간당 급여액 : \")\n",
    "\n",
    "pay = int(per_pay) * int(work_time)\n",
    "\n",
    "print(\"주급은\", pay, \"입니다.\")"
   ]
  },
  {
   "cell_type": "code",
   "execution_count": 18,
   "id": "7f8785cb-014c-459b-8fb0-40334e089360",
   "metadata": {},
   "outputs": [
    {
     "name": "stdout",
     "output_type": "stream",
     "text": [
      "\n",
      "동해물과 백두산이\n",
      "마르고 닳도록\n",
      "하느님이 보우하사\n",
      "우리 나라 만세\n",
      "\n"
     ]
    }
   ],
   "source": [
    "s = \"\"\"\n",
    "동해물과 백두산이\n",
    "마르고 닳도록\n",
    "하느님이 보우하사\n",
    "우리 나라 만세\n",
    "\"\"\"\n",
    "print(s)"
   ]
  },
  {
   "cell_type": "code",
   "execution_count": null,
   "id": "c81f9ab7-0eca-4ef3-a50c-7d0ddd756375",
   "metadata": {},
   "outputs": [],
   "source": []
  }
 ],
 "metadata": {
  "kernelspec": {
   "display_name": "base",
   "language": "python",
   "name": "python3"
  },
  "language_info": {
   "codemirror_mode": {
    "name": "ipython",
    "version": 3
   },
   "file_extension": ".py",
   "mimetype": "text/x-python",
   "name": "python",
   "nbconvert_exporter": "python",
   "pygments_lexer": "ipython3",
   "version": "3.12.7"
  }
 },
 "nbformat": 4,
 "nbformat_minor": 5
}
