{
 "cells": [
  {
   "cell_type": "code",
   "execution_count": null,
   "id": "7bef5e89",
   "metadata": {},
   "outputs": [
    {
     "name": "stdout",
     "output_type": "stream",
     "text": [
      "[1, 2, 3, 4, 5, 2, 4, 6, 8, 10]\n",
      "[1 2 3 4 5] <class 'numpy.ndarray'>\n",
      "[ 3  6  9 12 15]\n",
      "[ 5  7  9 11 13 15 17 19 21 23]\n",
      "평균 5.5\n",
      "중위값 5.5\n",
      "최소값 1\n",
      "최대값 10\n",
      "표준편차 2.8722813232690143\n",
      "분산 8.25\n"
     ]
    }
   ],
   "source": [
    "import numpy as np\n",
    "# numpy - 분석용 라잉브러리, C언어\n",
    "\n",
    "a = [1,2,3,4,5]\n",
    "b = [2,4,6,8,10]\n",
    "c = a+b\n",
    "print(c)\n",
    "\n",
    "# 머신러닝, 딥러닝 둘다 취급하는 데이터 타입이 ndarray 타입이다.\n",
    "a1 = np.array(a)    # 타입을 list -> ndarray 타입으로 (C언어의 배열, 속도가 엄청 빠름)\n",
    "print(a1, type(a1))\n",
    "b1 = np.array(b)\n",
    "c1 = a1 + b1    # 수학의 벡터연산을 수행한다.\n",
    "                # 스칼라 연산 - 요소 하나씩 더하기\n",
    "                # 벡터연산 - 벡터 통째로(배열 통째로 연산을 수행함, forX)\n",
    "print(c1)\n",
    "\n",
    "x = np.array([1,2,3,4,5,6,7,8,9,10])\n",
    "y = 2*x + 3     # 수학적 연산에 집중된 방식, 벡터연산을 수행한다.\n",
    "print(y)\n",
    "\n",
    "# 기초통계\n",
    "print(\"평균\", np.mean(x))\n",
    "print(\"중위값\", np.median(x))\n",
    "print(\"최소값\", np.min(x))\n",
    "print(\"최대값\", np.max(x))\n",
    "print(\"표준편차\", np.std(x))\n",
    "print(\"분산\", np.var(x))"
   ]
  }
 ],
 "metadata": {
  "kernelspec": {
   "display_name": "base",
   "language": "python",
   "name": "python3"
  },
  "language_info": {
   "codemirror_mode": {
    "name": "ipython",
    "version": 3
   },
   "file_extension": ".py",
   "mimetype": "text/x-python",
   "name": "python",
   "nbconvert_exporter": "python",
   "pygments_lexer": "ipython3",
   "version": "3.12.7"
  }
 },
 "nbformat": 4,
 "nbformat_minor": 5
}
