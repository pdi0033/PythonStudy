{
  "nbformat": 4,
  "nbformat_minor": 0,
  "metadata": {
    "colab": {
      "provenance": []
    },
    "kernelspec": {
      "name": "python3",
      "display_name": "Python 3"
    },
    "language_info": {
      "name": "python"
    }
  },
  "cells": [
    {
      "cell_type": "code",
      "execution_count": 42,
      "metadata": {
        "colab": {
          "base_uri": "https://localhost:8080/"
        },
        "collapsed": true,
        "id": "Tr-M_jHd0cqH",
        "outputId": "857ca0b2-8dec-4876-dbe4-3ee46288e448"
      },
      "outputs": [
        {
          "output_type": "stream",
          "name": "stdout",
          "text": [
            "Requirement already satisfied: langchain in /usr/local/lib/python3.12/dist-packages (0.3.27)\n",
            "Requirement already satisfied: langchain_openai in /usr/local/lib/python3.12/dist-packages (0.3.31)\n",
            "Requirement already satisfied: langgraph in /usr/local/lib/python3.12/dist-packages (0.6.6)\n",
            "Requirement already satisfied: requests in /usr/local/lib/python3.12/dist-packages (2.32.4)\n",
            "Requirement already satisfied: langchain-core<1.0.0,>=0.3.72 in /usr/local/lib/python3.12/dist-packages (from langchain) (0.3.74)\n",
            "Requirement already satisfied: langchain-text-splitters<1.0.0,>=0.3.9 in /usr/local/lib/python3.12/dist-packages (from langchain) (0.3.9)\n",
            "Requirement already satisfied: langsmith>=0.1.17 in /usr/local/lib/python3.12/dist-packages (from langchain) (0.4.14)\n",
            "Requirement already satisfied: pydantic<3.0.0,>=2.7.4 in /usr/local/lib/python3.12/dist-packages (from langchain) (2.11.7)\n",
            "Requirement already satisfied: SQLAlchemy<3,>=1.4 in /usr/local/lib/python3.12/dist-packages (from langchain) (2.0.43)\n",
            "Requirement already satisfied: PyYAML>=5.3 in /usr/local/lib/python3.12/dist-packages (from langchain) (6.0.2)\n",
            "Requirement already satisfied: openai<2.0.0,>=1.99.9 in /usr/local/lib/python3.12/dist-packages (from langchain_openai) (1.100.0)\n",
            "Requirement already satisfied: tiktoken<1,>=0.7 in /usr/local/lib/python3.12/dist-packages (from langchain_openai) (0.11.0)\n",
            "Requirement already satisfied: langgraph-checkpoint<3.0.0,>=2.1.0 in /usr/local/lib/python3.12/dist-packages (from langgraph) (2.1.1)\n",
            "Requirement already satisfied: langgraph-prebuilt<0.7.0,>=0.6.0 in /usr/local/lib/python3.12/dist-packages (from langgraph) (0.6.4)\n",
            "Requirement already satisfied: langgraph-sdk<0.3.0,>=0.2.2 in /usr/local/lib/python3.12/dist-packages (from langgraph) (0.2.3)\n",
            "Requirement already satisfied: xxhash>=3.5.0 in /usr/local/lib/python3.12/dist-packages (from langgraph) (3.5.0)\n",
            "Requirement already satisfied: charset_normalizer<4,>=2 in /usr/local/lib/python3.12/dist-packages (from requests) (3.4.3)\n",
            "Requirement already satisfied: idna<4,>=2.5 in /usr/local/lib/python3.12/dist-packages (from requests) (3.10)\n",
            "Requirement already satisfied: urllib3<3,>=1.21.1 in /usr/local/lib/python3.12/dist-packages (from requests) (2.5.0)\n",
            "Requirement already satisfied: certifi>=2017.4.17 in /usr/local/lib/python3.12/dist-packages (from requests) (2025.8.3)\n",
            "Requirement already satisfied: tenacity!=8.4.0,<10.0.0,>=8.1.0 in /usr/local/lib/python3.12/dist-packages (from langchain-core<1.0.0,>=0.3.72->langchain) (8.5.0)\n",
            "Requirement already satisfied: jsonpatch<2.0,>=1.33 in /usr/local/lib/python3.12/dist-packages (from langchain-core<1.0.0,>=0.3.72->langchain) (1.33)\n",
            "Requirement already satisfied: typing-extensions>=4.7 in /usr/local/lib/python3.12/dist-packages (from langchain-core<1.0.0,>=0.3.72->langchain) (4.14.1)\n",
            "Requirement already satisfied: packaging>=23.2 in /usr/local/lib/python3.12/dist-packages (from langchain-core<1.0.0,>=0.3.72->langchain) (25.0)\n",
            "Requirement already satisfied: ormsgpack>=1.10.0 in /usr/local/lib/python3.12/dist-packages (from langgraph-checkpoint<3.0.0,>=2.1.0->langgraph) (1.10.0)\n",
            "Requirement already satisfied: httpx>=0.25.2 in /usr/local/lib/python3.12/dist-packages (from langgraph-sdk<0.3.0,>=0.2.2->langgraph) (0.28.1)\n",
            "Requirement already satisfied: orjson>=3.10.1 in /usr/local/lib/python3.12/dist-packages (from langgraph-sdk<0.3.0,>=0.2.2->langgraph) (3.11.2)\n",
            "Requirement already satisfied: requests-toolbelt>=1.0.0 in /usr/local/lib/python3.12/dist-packages (from langsmith>=0.1.17->langchain) (1.0.0)\n",
            "Requirement already satisfied: zstandard>=0.23.0 in /usr/local/lib/python3.12/dist-packages (from langsmith>=0.1.17->langchain) (0.24.0)\n",
            "Requirement already satisfied: anyio<5,>=3.5.0 in /usr/local/lib/python3.12/dist-packages (from openai<2.0.0,>=1.99.9->langchain_openai) (4.10.0)\n",
            "Requirement already satisfied: distro<2,>=1.7.0 in /usr/local/lib/python3.12/dist-packages (from openai<2.0.0,>=1.99.9->langchain_openai) (1.9.0)\n",
            "Requirement already satisfied: jiter<1,>=0.4.0 in /usr/local/lib/python3.12/dist-packages (from openai<2.0.0,>=1.99.9->langchain_openai) (0.10.0)\n",
            "Requirement already satisfied: sniffio in /usr/local/lib/python3.12/dist-packages (from openai<2.0.0,>=1.99.9->langchain_openai) (1.3.1)\n",
            "Requirement already satisfied: tqdm>4 in /usr/local/lib/python3.12/dist-packages (from openai<2.0.0,>=1.99.9->langchain_openai) (4.67.1)\n",
            "Requirement already satisfied: annotated-types>=0.6.0 in /usr/local/lib/python3.12/dist-packages (from pydantic<3.0.0,>=2.7.4->langchain) (0.7.0)\n",
            "Requirement already satisfied: pydantic-core==2.33.2 in /usr/local/lib/python3.12/dist-packages (from pydantic<3.0.0,>=2.7.4->langchain) (2.33.2)\n",
            "Requirement already satisfied: typing-inspection>=0.4.0 in /usr/local/lib/python3.12/dist-packages (from pydantic<3.0.0,>=2.7.4->langchain) (0.4.1)\n",
            "Requirement already satisfied: greenlet>=1 in /usr/local/lib/python3.12/dist-packages (from SQLAlchemy<3,>=1.4->langchain) (3.2.4)\n",
            "Requirement already satisfied: regex>=2022.1.18 in /usr/local/lib/python3.12/dist-packages (from tiktoken<1,>=0.7->langchain_openai) (2024.11.6)\n",
            "Requirement already satisfied: httpcore==1.* in /usr/local/lib/python3.12/dist-packages (from httpx>=0.25.2->langgraph-sdk<0.3.0,>=0.2.2->langgraph) (1.0.9)\n",
            "Requirement already satisfied: h11>=0.16 in /usr/local/lib/python3.12/dist-packages (from httpcore==1.*->httpx>=0.25.2->langgraph-sdk<0.3.0,>=0.2.2->langgraph) (0.16.0)\n",
            "Requirement already satisfied: jsonpointer>=1.9 in /usr/local/lib/python3.12/dist-packages (from jsonpatch<2.0,>=1.33->langchain-core<1.0.0,>=0.3.72->langchain) (3.0.0)\n"
          ]
        }
      ],
      "source": [
        "# requests 추가(통신을 위함)\n",
        "!pip install langchain langchain_openai langgraph requests"
      ]
    },
    {
      "cell_type": "markdown",
      "source": [
        "# 현재 상황을 바탕으로 '할것, 먹을것' 추천해주는 챗봇\n",
        "\n",
        "- 현재 상황 :\n",
        "    - 나의 언급 : '심심해', '배고파' ...\n",
        "    - 나의 위치\n",
        "    - 현재 날씨\n",
        "    - 지금 시간\n",
        "\n",
        "- 추천 시 : 카카오맵 활용(실제 가게 주소 return)"
      ],
      "metadata": {
        "id": "jTBeIDaJ1W_B"
      }
    },
    {
      "cell_type": "code",
      "source": [
        "import os\n",
        "from google.colab import userdata\n",
        "\n",
        "# LLM을 활용하기 위함\n",
        "os.environ['OPENAI_API_KEY'] = userdata.get(\"sesac7_openAI2\")\n",
        "\n",
        "# 온도, 날씨 가져다 쓰기 위한 api\n",
        "os.environ['WEATHER_API_KEY'] = userdata.get(\"weather_API\")\n",
        "\n",
        "# 카카오맵 api\n",
        "os.environ['KAKAO_API_KEY'] = ''"
      ],
      "metadata": {
        "id": "ki0gbJN70qCW"
      },
      "execution_count": 53,
      "outputs": []
    },
    {
      "cell_type": "code",
      "source": [
        "from langchain_openai import ChatOpenAI\n",
        "import json, requests, traceback      # traceback(로그 상세히/오류 디버깅)\n",
        "\n",
        "# 시간 라이브러리\n",
        "from datetime import datetime\n",
        "\n",
        "# 랭그래프의 구조\n",
        "from langgraph.graph import StateGraph, END     # 상태그래프와 END노드 세팅\n",
        "from typing_extensions import TypedDict         # 상태그래프 커스터마이징"
      ],
      "metadata": {
        "id": "Elrwf-xt7sNB"
      },
      "execution_count": 44,
      "outputs": []
    },
    {
      "cell_type": "code",
      "source": [
        "# # 추천에 필요한 요소들을 '상태'로 만듦\n",
        "# class State(TypedDict):\n",
        "#     user_input : str    # 나의 상태를 입력하는 str\n",
        "#     location : str      # 나의 위치\n",
        "#     timeslot : str      # 시간대(아침/점심/오후/저녁)\n",
        "#     season : str        # 계절\n",
        "#     weather : str       # 날씨\n",
        "#     # 노드를 거치면서 결과물로 추가되는 상태\n",
        "#     intent : str        # 의도(할 것 or 먹을 것)\n",
        "#     recommended_items : list    # 추천하는 음식이나 활동 '리스트'\n",
        "#     search_keyword : str        # kakao api에 특정 '장소'나 '가게'를 검색하기 위한 검색어 생성\n",
        "#     recommended_place : dict    # 장소 추천 결과\n",
        "#     final_message : str         # 현재 상황, 추천 결과를 고려하여서 사용자가 받을 최종 아웃풋\n",
        "\n",
        "# # 전체 구조\n",
        "# # 워크플로우에 포함될 상태 그래프\n",
        "# workflow = StateGraph(State)\n",
        "\n",
        "# # 노드 추가\n",
        "# workflow.add_node('classify_intent', classify_intent)   # 사용자의 입력 문장을 보고 할것 or 먹을것 분류\n",
        "# workflow.add_node('get_time', get_time)\n",
        "# workflow.add_node('get_season', get_season)\n",
        "# workflow.add_node('get_weather', get_weather)\n",
        "\n",
        "# # 할것 추천 노드, 먹을 것 추천 노드\n",
        "# workflow.add_node('recommend_food', recommend_food)\n",
        "# workflow.add_node('recommend_activity', recommend_activity)\n",
        "\n",
        "# # 구체적인 장소를 검색하기 위한 '검색어 생성'\n",
        "# workflow.add_node('generate_keyword', generate_keyword)\n",
        "\n",
        "# # 카카오맵 api에 장소 검색\n",
        "# workflow.add_node('search_place', search_place)\n",
        "\n",
        "# # 요약해서 친절하게 답변 생성\n",
        "# workflow.add_node('summarize_output', summarize_output)\n",
        "\n",
        "# # 파악할 수 없는 의도를 예외처리\n",
        "# workflow.add_node('handle_unsupported', handle_unsupported)"
      ],
      "metadata": {
        "id": "4VckQ-jp1-Tf"
      },
      "execution_count": 45,
      "outputs": []
    },
    {
      "cell_type": "markdown",
      "source": [
        "## 노드에서 '에이전트'와 '툴'을 분리하기"
      ],
      "metadata": {
        "id": "0R8gOhhs7PoB"
      }
    },
    {
      "cell_type": "code",
      "source": [
        "# 2가지 타입의 llm을 정의, 같은 에이전트지만 'return 받는 값'에 따라 쪼개줌\n",
        "llm = ChatOpenAI()\n",
        "\n",
        "llm_json = ChatOpenAI(\n",
        "    model = 'gpt-4o-mini',\n",
        "    api_key = os.environ['OPENAI_API_KEY'],\n",
        "    temperature= 0.5,\n",
        "    model_kwargs={'response_format':{'type':'json_object'}}\n",
        ") # 추천받은 결과가 여러 개일 때, json 포맷으로 들어오게 하기 위함\n",
        "\n",
        "llm_normal = ChatOpenAI(\n",
        "    model = 'gpt-4o-mini',\n",
        "    api_key = os.environ['OPENAI_API_KEY'],\n",
        "    temperature= 0.5\n",
        ")"
      ],
      "metadata": {
        "id": "RizoRf-i7Axz"
      },
      "execution_count": 46,
      "outputs": []
    },
    {
      "cell_type": "code",
      "source": [
        "# 사용자 입력의 의도를 분류 : 할것, 먹을것, 상관없는것(언노운)\n",
        "# 원래라면 매개변수, 리턴값 == StateGraph의 형태로 지정되어야 하는데, 코드로 변환\n",
        "def classify_intent(state:dict) -> dict:\n",
        "    # 사용자의 입력 내용을 가져옴\n",
        "    # 딕셔너리.get('키', 'B') -> '키'에 해당하는 값이 없으면 'B'를 가져와라\n",
        "    user_input = state.get('user_input', '')\n",
        "\n",
        "    prompt = f\"\"\"\n",
        "      당신은 사용자의 자연어 입력을 food / activity / unknown 중 하나로 분류하는 AI입니다.\n",
        "\n",
        "      입력: \"{user_input}\"\n",
        "\n",
        "      분류 기준:\n",
        "      - 음식 관련 표현 → \"food\" (예: 배고파, 뭐 먹지, 야식 추천해줘 등)\n",
        "      - 활동 관련 표현 → \"activity\" (예: 심심해, 뭐 하지, 놀고 싶어 등)\n",
        "      - 증상, 감정, 질문, 애매한 표현 → \"unknown\"\n",
        "\n",
        "      조금 애매한 표현이라도 의미가 보이면 food 또는 activity로 분류하세요.\n",
        "\n",
        "      출력은 반드시 다음 중 하나의 JSON 배열 또는 객체로 작성하세요:\n",
        "      - 배열: [\"food\"]\n",
        "      - 객체: {{ \"intent\": [\"food\"] }}\n",
        "    \"\"\"\n",
        "\n",
        "    response = llm_json.invoke([{'role':'user', 'content':prompt.strip()}])\n",
        "\n",
        "    # 정답에 strip()해서 양쪽 공백 제거\n",
        "    intent = response.content.strip()\n",
        "    # classify_intent({'user_input':'내가 좋아하는 색깔은 파란색이야'})\n",
        "    # print(intent)\n",
        "\n",
        "    try:\n",
        "        # intent(str)을 json.loads()로 적용 -> 타입을 변경 / 결과를 분리\n",
        "        parsing = json.loads(intent)\n",
        "\n",
        "        # 1. isinstance(A, B) -> A가 B타입이냐?\n",
        "        # 2. parsing이 존재?\n",
        "        # 3. parsing[0] 존재?\n",
        "        if isinstance(parsing, list) and parsing and parsing[0]:\n",
        "            # **state \"딕셔너리 언패킹\"\n",
        "            # 'intent'(키) : parsing[0](값)\n",
        "            return {**state, 'intent':parsing[0]}\n",
        "\n",
        "        if isinstance(parsing, dict) :\n",
        "            if 'intent' in parsing:\n",
        "                value = parsing['intent']\n",
        "\n",
        "                # 1. value가 list야?\n",
        "                # 2. value가 존재해?\n",
        "                # 3. value의 [0]번째 값이 food나 activity야?\n",
        "                if isinstance(value, list) and value and value[0] in ['food', 'activity']:\n",
        "                    return {**state, 'intent':value[0]}\n",
        "\n",
        "                for key in ['food', 'activity']:\n",
        "                    if key in parsing:\n",
        "                        return {**state, 'intent':key}\n",
        "\n",
        "    except Exception as e:\n",
        "        print(\"에러발생 :\")\n",
        "        print(traceback.format_exc())   # traceback 라이브러리로 보다 자세한 오류 로그 셋팅\n",
        "\n",
        "    return {**state, 'intent':'unknown'}\n",
        "\n",
        "statement = classify_intent({'user_input':'몬헌 음식'})"
      ],
      "metadata": {
        "id": "we3q7RFa8kUc"
      },
      "execution_count": 47,
      "outputs": []
    },
    {
      "cell_type": "code",
      "source": [
        "statement"
      ],
      "metadata": {
        "colab": {
          "base_uri": "https://localhost:8080/"
        },
        "id": "flO8w4wj-6os",
        "outputId": "7dfdcf04-26a3-40df-cf43-fd40e81b4ad8"
      },
      "execution_count": 48,
      "outputs": [
        {
          "output_type": "execute_result",
          "data": {
            "text/plain": [
              "{'user_input': '몬헌 음식', 'intent': 'food'}"
            ]
          },
          "metadata": {},
          "execution_count": 48
        }
      ]
    },
    {
      "cell_type": "code",
      "source": [
        "from zoneinfo import ZoneInfo\n",
        "# 툴(역할)\n",
        "# state를 받아서 언패킹해서 timeslot을 return\n",
        "def get_time(state:dict) -> dict:\n",
        "    # 함수가 실행된 순간의 시(hour), 00~24시로 들어옴\n",
        "    KST = ZoneInfo('Asia/Seoul')\n",
        "    hour = datetime.now(KST).hour\n",
        "    # hour = datetime.now().hour\n",
        "\n",
        "    if 5 <= hour < 11:\n",
        "        return {**state, 'timeslot':'아침'}\n",
        "\n",
        "    elif 11 <= hour <14:\n",
        "        return {**state, 'timeslot':'점심'}\n",
        "\n",
        "    elif 14 <= hour <18:\n",
        "        return {**state, 'timeslot':'오후'}\n",
        "\n",
        "    else:\n",
        "        return {**state, 'timeslot':'저녁'}"
      ],
      "metadata": {
        "id": "WJTq5s9a_iFM"
      },
      "execution_count": 49,
      "outputs": []
    },
    {
      "cell_type": "code",
      "source": [
        "# 툴(역할)\n",
        "# state를 받아서 언패킹해서 timeslot을 return\n",
        "def get_season(state:dict) -> dict:\n",
        "    # 함수가 실행된 순간의 시(hour), 00~24시로 들어옴\n",
        "    KST = ZoneInfo('Asia/Seoul')\n",
        "    m = datetime.now(KST).month\n",
        "\n",
        "    if 3 <= m < 6:\n",
        "        return {**state, 'timeslot':'봄'}\n",
        "\n",
        "    elif 6 <= m < 10:\n",
        "        return {**state, 'timeslot':'여름'}\n",
        "\n",
        "    elif 10 <= m < 11:\n",
        "        return {**state, 'timeslot':'가을'}\n",
        "\n",
        "    else:\n",
        "        return {**state, 'timeslot':'겨울'}"
      ],
      "metadata": {
        "id": "2jZwxwrMJF4f"
      },
      "execution_count": 50,
      "outputs": []
    },
    {
      "cell_type": "code",
      "source": [
        "def get_weather(state:dict) -> dict:\n",
        "\n",
        "    #특정 인터넷 주소에 신호를 보내고 -> 받아오는\n",
        "    url = \"https://api.openweathermap.org/data/2.5/weather\"\n",
        "    params = {\n",
        "        'q' : 'Seoul',\n",
        "        'appid' : os.environ['WEATHER_API_KEY'],\n",
        "        'lang' : 'kr',\n",
        "        'units' : 'metric'\n",
        "    }\n",
        "    #requests.get(주소, 요청사항) : 특정한 주소에, 필요한 요청사항을 담아 보냄\n",
        "    response = requests.get(url, params=params)\n",
        "\n",
        "    #<200> -> 성공 <400>->오류\n",
        "    #응답 코드가 '실패'인 경우->코드 확인\n",
        "    response.raise_for_status()\n",
        "\n",
        "    #오류 없음 -> 데이터에서 '날씨'를 의미하는 부분 추가\n",
        "    weather_data = response.json()\n",
        "    weather = weather_data['weather'][0]['main']\n",
        "\n",
        "    print(weather_data)\n",
        "    return {**state, 'weather' : weather}\n",
        "\n",
        "get_weather({})"
      ],
      "metadata": {
        "colab": {
          "base_uri": "https://localhost:8080/"
        },
        "id": "GoLBmLPHKVjh",
        "outputId": "ea0dd4a8-517c-416c-ccfa-a3bc1be9b814"
      },
      "execution_count": 56,
      "outputs": [
        {
          "output_type": "stream",
          "name": "stdout",
          "text": [
            "{'coord': {'lon': 126.9778, 'lat': 37.5683}, 'weather': [{'id': 802, 'main': 'Clouds', 'description': '구름조금', 'icon': '03d'}], 'base': 'stations', 'main': {'temp': 31.76, 'feels_like': 38.76, 'temp_min': 31.76, 'temp_max': 33.78, 'pressure': 1008, 'humidity': 70, 'sea_level': 1008, 'grnd_level': 999}, 'visibility': 10000, 'wind': {'speed': 7.72, 'deg': 200}, 'clouds': {'all': 40}, 'dt': 1756108322, 'sys': {'type': 1, 'id': 8105, 'country': 'KR', 'sunrise': 1756068981, 'sunset': 1756116757}, 'timezone': 32400, 'id': 1835848, 'name': 'Seoul', 'cod': 200}\n"
          ]
        },
        {
          "output_type": "execute_result",
          "data": {
            "text/plain": [
              "{'weather': 'Clouds'}"
            ]
          },
          "metadata": {},
          "execution_count": 56
        }
      ]
    },
    {
      "cell_type": "code",
      "source": [],
      "metadata": {
        "id": "-DFck_ypNZDk"
      },
      "execution_count": null,
      "outputs": []
    }
  ]
}