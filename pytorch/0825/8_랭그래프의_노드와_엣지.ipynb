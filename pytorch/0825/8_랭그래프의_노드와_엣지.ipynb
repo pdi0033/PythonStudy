{
  "nbformat": 4,
  "nbformat_minor": 0,
  "metadata": {
    "colab": {
      "provenance": []
    },
    "kernelspec": {
      "name": "python3",
      "display_name": "Python 3"
    },
    "language_info": {
      "name": "python"
    }
  },
  "cells": [
    {
      "cell_type": "markdown",
      "source": [
        "## 랭그래프의 노드를 이루는 요소\n",
        "\n",
        "- Agent : LLM을 사용해서 동작에 대한 판단을 스스로 내리는 AI 구성요소\n",
        "\n",
        "- Tool : 단순 함수 Call"
      ],
      "metadata": {
        "id": "JQHpdJTv91tn"
      }
    },
    {
      "cell_type": "code",
      "execution_count": 16,
      "metadata": {
        "colab": {
          "base_uri": "https://localhost:8080/"
        },
        "id": "WzOD_QGR9kfk",
        "outputId": "da744bcd-8d1c-4435-9228-6fd34a762da8"
      },
      "outputs": [
        {
          "output_type": "stream",
          "name": "stdout",
          "text": [
            "Requirement already satisfied: langchain in /usr/local/lib/python3.12/dist-packages (0.3.27)\n",
            "Requirement already satisfied: openai in /usr/local/lib/python3.12/dist-packages (1.100.0)\n",
            "Requirement already satisfied: langchain-community in /usr/local/lib/python3.12/dist-packages (0.3.27)\n",
            "Requirement already satisfied: langchain-core<1.0.0,>=0.3.72 in /usr/local/lib/python3.12/dist-packages (from langchain) (0.3.74)\n",
            "Requirement already satisfied: langchain-text-splitters<1.0.0,>=0.3.9 in /usr/local/lib/python3.12/dist-packages (from langchain) (0.3.9)\n",
            "Requirement already satisfied: langsmith>=0.1.17 in /usr/local/lib/python3.12/dist-packages (from langchain) (0.4.14)\n",
            "Requirement already satisfied: pydantic<3.0.0,>=2.7.4 in /usr/local/lib/python3.12/dist-packages (from langchain) (2.11.7)\n",
            "Requirement already satisfied: SQLAlchemy<3,>=1.4 in /usr/local/lib/python3.12/dist-packages (from langchain) (2.0.43)\n",
            "Requirement already satisfied: requests<3,>=2 in /usr/local/lib/python3.12/dist-packages (from langchain) (2.32.4)\n",
            "Requirement already satisfied: PyYAML>=5.3 in /usr/local/lib/python3.12/dist-packages (from langchain) (6.0.2)\n",
            "Requirement already satisfied: anyio<5,>=3.5.0 in /usr/local/lib/python3.12/dist-packages (from openai) (4.10.0)\n",
            "Requirement already satisfied: distro<2,>=1.7.0 in /usr/local/lib/python3.12/dist-packages (from openai) (1.9.0)\n",
            "Requirement already satisfied: httpx<1,>=0.23.0 in /usr/local/lib/python3.12/dist-packages (from openai) (0.28.1)\n",
            "Requirement already satisfied: jiter<1,>=0.4.0 in /usr/local/lib/python3.12/dist-packages (from openai) (0.10.0)\n",
            "Requirement already satisfied: sniffio in /usr/local/lib/python3.12/dist-packages (from openai) (1.3.1)\n",
            "Requirement already satisfied: tqdm>4 in /usr/local/lib/python3.12/dist-packages (from openai) (4.67.1)\n",
            "Requirement already satisfied: typing-extensions<5,>=4.11 in /usr/local/lib/python3.12/dist-packages (from openai) (4.14.1)\n",
            "Requirement already satisfied: aiohttp<4.0.0,>=3.8.3 in /usr/local/lib/python3.12/dist-packages (from langchain-community) (3.12.15)\n",
            "Requirement already satisfied: tenacity!=8.4.0,<10,>=8.1.0 in /usr/local/lib/python3.12/dist-packages (from langchain-community) (8.5.0)\n",
            "Requirement already satisfied: dataclasses-json<0.7,>=0.5.7 in /usr/local/lib/python3.12/dist-packages (from langchain-community) (0.6.7)\n",
            "Requirement already satisfied: pydantic-settings<3.0.0,>=2.4.0 in /usr/local/lib/python3.12/dist-packages (from langchain-community) (2.10.1)\n",
            "Requirement already satisfied: httpx-sse<1.0.0,>=0.4.0 in /usr/local/lib/python3.12/dist-packages (from langchain-community) (0.4.1)\n",
            "Requirement already satisfied: numpy>=1.26.2 in /usr/local/lib/python3.12/dist-packages (from langchain-community) (2.0.2)\n",
            "Requirement already satisfied: aiohappyeyeballs>=2.5.0 in /usr/local/lib/python3.12/dist-packages (from aiohttp<4.0.0,>=3.8.3->langchain-community) (2.6.1)\n",
            "Requirement already satisfied: aiosignal>=1.4.0 in /usr/local/lib/python3.12/dist-packages (from aiohttp<4.0.0,>=3.8.3->langchain-community) (1.4.0)\n",
            "Requirement already satisfied: attrs>=17.3.0 in /usr/local/lib/python3.12/dist-packages (from aiohttp<4.0.0,>=3.8.3->langchain-community) (25.3.0)\n",
            "Requirement already satisfied: frozenlist>=1.1.1 in /usr/local/lib/python3.12/dist-packages (from aiohttp<4.0.0,>=3.8.3->langchain-community) (1.7.0)\n",
            "Requirement already satisfied: multidict<7.0,>=4.5 in /usr/local/lib/python3.12/dist-packages (from aiohttp<4.0.0,>=3.8.3->langchain-community) (6.6.4)\n",
            "Requirement already satisfied: propcache>=0.2.0 in /usr/local/lib/python3.12/dist-packages (from aiohttp<4.0.0,>=3.8.3->langchain-community) (0.3.2)\n",
            "Requirement already satisfied: yarl<2.0,>=1.17.0 in /usr/local/lib/python3.12/dist-packages (from aiohttp<4.0.0,>=3.8.3->langchain-community) (1.20.1)\n",
            "Requirement already satisfied: idna>=2.8 in /usr/local/lib/python3.12/dist-packages (from anyio<5,>=3.5.0->openai) (3.10)\n",
            "Requirement already satisfied: marshmallow<4.0.0,>=3.18.0 in /usr/local/lib/python3.12/dist-packages (from dataclasses-json<0.7,>=0.5.7->langchain-community) (3.26.1)\n",
            "Requirement already satisfied: typing-inspect<1,>=0.4.0 in /usr/local/lib/python3.12/dist-packages (from dataclasses-json<0.7,>=0.5.7->langchain-community) (0.9.0)\n",
            "Requirement already satisfied: certifi in /usr/local/lib/python3.12/dist-packages (from httpx<1,>=0.23.0->openai) (2025.8.3)\n",
            "Requirement already satisfied: httpcore==1.* in /usr/local/lib/python3.12/dist-packages (from httpx<1,>=0.23.0->openai) (1.0.9)\n",
            "Requirement already satisfied: h11>=0.16 in /usr/local/lib/python3.12/dist-packages (from httpcore==1.*->httpx<1,>=0.23.0->openai) (0.16.0)\n",
            "Requirement already satisfied: jsonpatch<2.0,>=1.33 in /usr/local/lib/python3.12/dist-packages (from langchain-core<1.0.0,>=0.3.72->langchain) (1.33)\n",
            "Requirement already satisfied: packaging>=23.2 in /usr/local/lib/python3.12/dist-packages (from langchain-core<1.0.0,>=0.3.72->langchain) (25.0)\n",
            "Requirement already satisfied: orjson>=3.9.14 in /usr/local/lib/python3.12/dist-packages (from langsmith>=0.1.17->langchain) (3.11.2)\n",
            "Requirement already satisfied: requests-toolbelt>=1.0.0 in /usr/local/lib/python3.12/dist-packages (from langsmith>=0.1.17->langchain) (1.0.0)\n",
            "Requirement already satisfied: zstandard>=0.23.0 in /usr/local/lib/python3.12/dist-packages (from langsmith>=0.1.17->langchain) (0.24.0)\n",
            "Requirement already satisfied: annotated-types>=0.6.0 in /usr/local/lib/python3.12/dist-packages (from pydantic<3.0.0,>=2.7.4->langchain) (0.7.0)\n",
            "Requirement already satisfied: pydantic-core==2.33.2 in /usr/local/lib/python3.12/dist-packages (from pydantic<3.0.0,>=2.7.4->langchain) (2.33.2)\n",
            "Requirement already satisfied: typing-inspection>=0.4.0 in /usr/local/lib/python3.12/dist-packages (from pydantic<3.0.0,>=2.7.4->langchain) (0.4.1)\n",
            "Requirement already satisfied: python-dotenv>=0.21.0 in /usr/local/lib/python3.12/dist-packages (from pydantic-settings<3.0.0,>=2.4.0->langchain-community) (1.1.1)\n",
            "Requirement already satisfied: charset_normalizer<4,>=2 in /usr/local/lib/python3.12/dist-packages (from requests<3,>=2->langchain) (3.4.3)\n",
            "Requirement already satisfied: urllib3<3,>=1.21.1 in /usr/local/lib/python3.12/dist-packages (from requests<3,>=2->langchain) (2.5.0)\n",
            "Requirement already satisfied: greenlet>=1 in /usr/local/lib/python3.12/dist-packages (from SQLAlchemy<3,>=1.4->langchain) (3.2.4)\n",
            "Requirement already satisfied: jsonpointer>=1.9 in /usr/local/lib/python3.12/dist-packages (from jsonpatch<2.0,>=1.33->langchain-core<1.0.0,>=0.3.72->langchain) (3.0.0)\n",
            "Requirement already satisfied: mypy-extensions>=0.3.0 in /usr/local/lib/python3.12/dist-packages (from typing-inspect<1,>=0.4.0->dataclasses-json<0.7,>=0.5.7->langchain-community) (1.1.0)\n"
          ]
        }
      ],
      "source": [
        "!pip install langchain openai langchain-community"
      ]
    },
    {
      "cell_type": "code",
      "source": [
        "import os, openai\n",
        "from google.colab import userdata\n",
        "from langchain.llms import OpenAI\n",
        "\n",
        "os.environ['OPENAI_API_KEY'] = userdata.get(\"sesac7_openAI2\")"
      ],
      "metadata": {
        "id": "wGuAWZ2S_A5d"
      },
      "execution_count": 17,
      "outputs": []
    },
    {
      "cell_type": "code",
      "source": [
        "from tempfile import tempdir\n",
        "from langchain.llms import OpenAI\n",
        "\n",
        "llm = OpenAI(temperature=0)\n",
        "# 4.74\n",
        "print(llm.predict('what is 2.1^2.1?'))"
      ],
      "metadata": {
        "colab": {
          "base_uri": "https://localhost:8080/"
        },
        "id": "7mioAEHF_Uk_",
        "outputId": "5a29e687-0721-42b9-c7a8-6ccc05e967ee"
      },
      "execution_count": 18,
      "outputs": [
        {
          "output_type": "stream",
          "name": "stdout",
          "text": [
            "\u001b[32;1m\u001b[1;3m[llm/start]\u001b[0m \u001b[1m[llm:OpenAI] Entering LLM run with input:\n",
            "\u001b[0m{\n",
            "  \"prompts\": [\n",
            "    \"what is 2.1^2.1?\"\n",
            "  ]\n",
            "}\n",
            "\u001b[36;1m\u001b[1;3m[llm/end]\u001b[0m \u001b[1m[llm:OpenAI] [531ms] Exiting LLM run with output:\n",
            "\u001b[0m{\n",
            "  \"generations\": [\n",
            "    [\n",
            "      {\n",
            "        \"text\": \"\\n\\nThe answer is approximately 4.41.\",\n",
            "        \"generation_info\": {\n",
            "          \"finish_reason\": \"stop\",\n",
            "          \"logprobs\": null\n",
            "        },\n",
            "        \"type\": \"Generation\"\n",
            "      }\n",
            "    ]\n",
            "  ],\n",
            "  \"llm_output\": {\n",
            "    \"token_usage\": {\n",
            "      \"completion_tokens\": 10,\n",
            "      \"prompt_tokens\": 11,\n",
            "      \"total_tokens\": 21\n",
            "    },\n",
            "    \"model_name\": \"gpt-3.5-turbo-instruct\"\n",
            "  },\n",
            "  \"run\": null,\n",
            "  \"type\": \"LLMResult\"\n",
            "}\n",
            "\n",
            "\n",
            "The answer is approximately 4.41.\n"
          ]
        }
      ]
    },
    {
      "cell_type": "code",
      "source": [
        "from langchain.agents import Tool\n",
        "from langchain.chains import LLMMathChain\n",
        "\n",
        "# 동일한 세팅의 llm을 LLMMathChain에게 전달\n",
        "llm_math = LLMMathChain(llm=OpenAI(temperature=0))\n",
        "\n",
        "# 수학적 툴\n",
        "math_tool = Tool(\n",
        "    name = 'calculator',\n",
        "    func = llm_math.run,\n",
        "    description = '수학 계산과 관련된 문제에 대해 필요하면 이 도구를 쓰시오.'\n",
        ")\n",
        "\n",
        "tools = [math_tool]\n",
        "print(tools[0].name, tools[0].description)"
      ],
      "metadata": {
        "colab": {
          "base_uri": "https://localhost:8080/"
        },
        "id": "i6ETLLDQ_uyY",
        "outputId": "0e316ceb-5052-4ae1-c547-0ee6e04c2aea"
      },
      "execution_count": 19,
      "outputs": [
        {
          "output_type": "stream",
          "name": "stdout",
          "text": [
            "calculator 수학 계산과 관련된 문제에 대해 필요하면 이 도구를 쓰시오.\n"
          ]
        },
        {
          "output_type": "stream",
          "name": "stderr",
          "text": [
            "/tmp/ipython-input-1381266621.py:5: UserWarning: Directly instantiating an LLMMathChain with an llm is deprecated. Please instantiate with llm_chain argument or using the from_llm class method.\n",
            "  llm_math = LLMMathChain(llm=OpenAI(temperature=0))\n"
          ]
        }
      ]
    },
    {
      "cell_type": "code",
      "source": [
        "# 위의 tool을 llm에 붙여 사용할 수 있게\n",
        "!pip install langgraph langchain-openai"
      ],
      "metadata": {
        "colab": {
          "base_uri": "https://localhost:8080/"
        },
        "id": "a0rn6VqcASDh",
        "outputId": "d71b4f19-3f69-4e6b-f406-eeaa8723c99c"
      },
      "execution_count": 20,
      "outputs": [
        {
          "output_type": "stream",
          "name": "stdout",
          "text": [
            "Requirement already satisfied: langgraph in /usr/local/lib/python3.12/dist-packages (0.6.6)\n",
            "Requirement already satisfied: langchain-openai in /usr/local/lib/python3.12/dist-packages (0.3.31)\n",
            "Requirement already satisfied: langchain-core>=0.1 in /usr/local/lib/python3.12/dist-packages (from langgraph) (0.3.74)\n",
            "Requirement already satisfied: langgraph-checkpoint<3.0.0,>=2.1.0 in /usr/local/lib/python3.12/dist-packages (from langgraph) (2.1.1)\n",
            "Requirement already satisfied: langgraph-prebuilt<0.7.0,>=0.6.0 in /usr/local/lib/python3.12/dist-packages (from langgraph) (0.6.4)\n",
            "Requirement already satisfied: langgraph-sdk<0.3.0,>=0.2.2 in /usr/local/lib/python3.12/dist-packages (from langgraph) (0.2.3)\n",
            "Requirement already satisfied: pydantic>=2.7.4 in /usr/local/lib/python3.12/dist-packages (from langgraph) (2.11.7)\n",
            "Requirement already satisfied: xxhash>=3.5.0 in /usr/local/lib/python3.12/dist-packages (from langgraph) (3.5.0)\n",
            "Requirement already satisfied: openai<2.0.0,>=1.99.9 in /usr/local/lib/python3.12/dist-packages (from langchain-openai) (1.100.0)\n",
            "Requirement already satisfied: tiktoken<1,>=0.7 in /usr/local/lib/python3.12/dist-packages (from langchain-openai) (0.11.0)\n",
            "Requirement already satisfied: langsmith>=0.3.45 in /usr/local/lib/python3.12/dist-packages (from langchain-core>=0.1->langgraph) (0.4.14)\n",
            "Requirement already satisfied: tenacity!=8.4.0,<10.0.0,>=8.1.0 in /usr/local/lib/python3.12/dist-packages (from langchain-core>=0.1->langgraph) (8.5.0)\n",
            "Requirement already satisfied: jsonpatch<2.0,>=1.33 in /usr/local/lib/python3.12/dist-packages (from langchain-core>=0.1->langgraph) (1.33)\n",
            "Requirement already satisfied: PyYAML>=5.3 in /usr/local/lib/python3.12/dist-packages (from langchain-core>=0.1->langgraph) (6.0.2)\n",
            "Requirement already satisfied: typing-extensions>=4.7 in /usr/local/lib/python3.12/dist-packages (from langchain-core>=0.1->langgraph) (4.14.1)\n",
            "Requirement already satisfied: packaging>=23.2 in /usr/local/lib/python3.12/dist-packages (from langchain-core>=0.1->langgraph) (25.0)\n",
            "Requirement already satisfied: ormsgpack>=1.10.0 in /usr/local/lib/python3.12/dist-packages (from langgraph-checkpoint<3.0.0,>=2.1.0->langgraph) (1.10.0)\n",
            "Requirement already satisfied: httpx>=0.25.2 in /usr/local/lib/python3.12/dist-packages (from langgraph-sdk<0.3.0,>=0.2.2->langgraph) (0.28.1)\n",
            "Requirement already satisfied: orjson>=3.10.1 in /usr/local/lib/python3.12/dist-packages (from langgraph-sdk<0.3.0,>=0.2.2->langgraph) (3.11.2)\n",
            "Requirement already satisfied: anyio<5,>=3.5.0 in /usr/local/lib/python3.12/dist-packages (from openai<2.0.0,>=1.99.9->langchain-openai) (4.10.0)\n",
            "Requirement already satisfied: distro<2,>=1.7.0 in /usr/local/lib/python3.12/dist-packages (from openai<2.0.0,>=1.99.9->langchain-openai) (1.9.0)\n",
            "Requirement already satisfied: jiter<1,>=0.4.0 in /usr/local/lib/python3.12/dist-packages (from openai<2.0.0,>=1.99.9->langchain-openai) (0.10.0)\n",
            "Requirement already satisfied: sniffio in /usr/local/lib/python3.12/dist-packages (from openai<2.0.0,>=1.99.9->langchain-openai) (1.3.1)\n",
            "Requirement already satisfied: tqdm>4 in /usr/local/lib/python3.12/dist-packages (from openai<2.0.0,>=1.99.9->langchain-openai) (4.67.1)\n",
            "Requirement already satisfied: annotated-types>=0.6.0 in /usr/local/lib/python3.12/dist-packages (from pydantic>=2.7.4->langgraph) (0.7.0)\n",
            "Requirement already satisfied: pydantic-core==2.33.2 in /usr/local/lib/python3.12/dist-packages (from pydantic>=2.7.4->langgraph) (2.33.2)\n",
            "Requirement already satisfied: typing-inspection>=0.4.0 in /usr/local/lib/python3.12/dist-packages (from pydantic>=2.7.4->langgraph) (0.4.1)\n",
            "Requirement already satisfied: regex>=2022.1.18 in /usr/local/lib/python3.12/dist-packages (from tiktoken<1,>=0.7->langchain-openai) (2024.11.6)\n",
            "Requirement already satisfied: requests>=2.26.0 in /usr/local/lib/python3.12/dist-packages (from tiktoken<1,>=0.7->langchain-openai) (2.32.4)\n",
            "Requirement already satisfied: idna>=2.8 in /usr/local/lib/python3.12/dist-packages (from anyio<5,>=3.5.0->openai<2.0.0,>=1.99.9->langchain-openai) (3.10)\n",
            "Requirement already satisfied: certifi in /usr/local/lib/python3.12/dist-packages (from httpx>=0.25.2->langgraph-sdk<0.3.0,>=0.2.2->langgraph) (2025.8.3)\n",
            "Requirement already satisfied: httpcore==1.* in /usr/local/lib/python3.12/dist-packages (from httpx>=0.25.2->langgraph-sdk<0.3.0,>=0.2.2->langgraph) (1.0.9)\n",
            "Requirement already satisfied: h11>=0.16 in /usr/local/lib/python3.12/dist-packages (from httpcore==1.*->httpx>=0.25.2->langgraph-sdk<0.3.0,>=0.2.2->langgraph) (0.16.0)\n",
            "Requirement already satisfied: jsonpointer>=1.9 in /usr/local/lib/python3.12/dist-packages (from jsonpatch<2.0,>=1.33->langchain-core>=0.1->langgraph) (3.0.0)\n",
            "Requirement already satisfied: requests-toolbelt>=1.0.0 in /usr/local/lib/python3.12/dist-packages (from langsmith>=0.3.45->langchain-core>=0.1->langgraph) (1.0.0)\n",
            "Requirement already satisfied: zstandard>=0.23.0 in /usr/local/lib/python3.12/dist-packages (from langsmith>=0.3.45->langchain-core>=0.1->langgraph) (0.24.0)\n",
            "Requirement already satisfied: charset_normalizer<4,>=2 in /usr/local/lib/python3.12/dist-packages (from requests>=2.26.0->tiktoken<1,>=0.7->langchain-openai) (3.4.3)\n",
            "Requirement already satisfied: urllib3<3,>=1.21.1 in /usr/local/lib/python3.12/dist-packages (from requests>=2.26.0->tiktoken<1,>=0.7->langchain-openai) (2.5.0)\n"
          ]
        }
      ]
    },
    {
      "cell_type": "code",
      "source": [
        "# agents \"판단\" / 실행을 하지는 않음\n",
        "from langchain.agents import AgentExecutor, create_tool_calling_agent\n",
        "from langchain_core.prompts import ChatPromptTemplate\n",
        "from langchain_openai import ChatOpenAI\n",
        "import langchain\n",
        "\n",
        "# model(생각할 llm, agent의 두뇌),\n",
        "# tools(agent가 사용가능한 도규 목록),\n",
        "# prompt(agent가 판단할 때 어떤 기준이 있다면? 이걸 프롬프트가 담고 있다.)\n",
        "model = ChatOpenAI(model='gpt-3.5-turbo')\n",
        "prompt = ChatPromptTemplate.from_messages([\n",
        "    ('system', '너는 사용자를 도와주는 훌륭한 AI 어시스턴트야.'),\n",
        "    ('human', '{input}'),\n",
        "    ('placeholder', '{agent_scratchpad}')   # tools을 사용하면서 남기는 중간 작업 내역\n",
        "])\n",
        "\n",
        "# 디버깅 모드 활성화\n",
        "# langchain.debug = True\n",
        "\n",
        "# agent를 만듦 => 이 agent는 tool을 calling =>\n",
        "# model(두뇌)로 tools(도구)를 prompt(지시사항)에 맞게 판단해서 부름\n",
        "agent = create_tool_calling_agent(model, tools, prompt)\n",
        "\n",
        "# 에이전트의 실행\n",
        "agent_executor = AgentExecutor(agent=agent, tools=tools)\n",
        "agent_executor.invoke({'input':'what is 2.1^2.1'})"
      ],
      "metadata": {
        "colab": {
          "base_uri": "https://localhost:8080/"
        },
        "id": "XQw-T3H4Byfg",
        "outputId": "f1d5a0b1-f01d-44d2-bdd3-3d2958040777"
      },
      "execution_count": 21,
      "outputs": [
        {
          "output_type": "stream",
          "name": "stdout",
          "text": [
            "\u001b[32;1m\u001b[1;3m[chain/start]\u001b[0m \u001b[1m[chain:AgentExecutor] Entering Chain run with input:\n",
            "\u001b[0m{\n",
            "  \"input\": \"what is 2.1^2.1\"\n",
            "}\n",
            "\u001b[32;1m\u001b[1;3m[chain/start]\u001b[0m \u001b[1m[chain:AgentExecutor > chain:RunnableSequence] Entering Chain run with input:\n",
            "\u001b[0m{\n",
            "  \"input\": \"\"\n",
            "}\n",
            "\u001b[32;1m\u001b[1;3m[chain/start]\u001b[0m \u001b[1m[chain:AgentExecutor > chain:RunnableSequence > chain:RunnableAssign<agent_scratchpad>] Entering Chain run with input:\n",
            "\u001b[0m{\n",
            "  \"input\": \"\"\n",
            "}\n",
            "\u001b[32;1m\u001b[1;3m[chain/start]\u001b[0m \u001b[1m[chain:AgentExecutor > chain:RunnableSequence > chain:RunnableAssign<agent_scratchpad> > chain:RunnableParallel<agent_scratchpad>] Entering Chain run with input:\n",
            "\u001b[0m{\n",
            "  \"input\": \"\"\n",
            "}\n",
            "\u001b[32;1m\u001b[1;3m[chain/start]\u001b[0m \u001b[1m[chain:AgentExecutor > chain:RunnableSequence > chain:RunnableAssign<agent_scratchpad> > chain:RunnableParallel<agent_scratchpad> > chain:RunnableLambda] Entering Chain run with input:\n",
            "\u001b[0m{\n",
            "  \"input\": \"\"\n",
            "}\n",
            "\u001b[36;1m\u001b[1;3m[chain/end]\u001b[0m \u001b[1m[chain:AgentExecutor > chain:RunnableSequence > chain:RunnableAssign<agent_scratchpad> > chain:RunnableParallel<agent_scratchpad> > chain:RunnableLambda] [1ms] Exiting Chain run with output:\n",
            "\u001b[0m{\n",
            "  \"output\": []\n",
            "}\n",
            "\u001b[36;1m\u001b[1;3m[chain/end]\u001b[0m \u001b[1m[chain:AgentExecutor > chain:RunnableSequence > chain:RunnableAssign<agent_scratchpad> > chain:RunnableParallel<agent_scratchpad>] [3ms] Exiting Chain run with output:\n",
            "\u001b[0m{\n",
            "  \"agent_scratchpad\": []\n",
            "}\n",
            "\u001b[36;1m\u001b[1;3m[chain/end]\u001b[0m \u001b[1m[chain:AgentExecutor > chain:RunnableSequence > chain:RunnableAssign<agent_scratchpad>] [4ms] Exiting Chain run with output:\n",
            "\u001b[0m{\n",
            "  \"input\": \"what is 2.1^2.1\",\n",
            "  \"intermediate_steps\": [],\n",
            "  \"agent_scratchpad\": []\n",
            "}\n",
            "\u001b[32;1m\u001b[1;3m[chain/start]\u001b[0m \u001b[1m[chain:AgentExecutor > chain:RunnableSequence > prompt:ChatPromptTemplate] Entering Prompt run with input:\n",
            "\u001b[0m{\n",
            "  \"input\": \"what is 2.1^2.1\",\n",
            "  \"intermediate_steps\": [],\n",
            "  \"agent_scratchpad\": []\n",
            "}\n",
            "\u001b[36;1m\u001b[1;3m[chain/end]\u001b[0m \u001b[1m[chain:AgentExecutor > chain:RunnableSequence > prompt:ChatPromptTemplate] [1ms] Exiting Prompt run with output:\n",
            "\u001b[0m[outputs]\n",
            "\u001b[32;1m\u001b[1;3m[llm/start]\u001b[0m \u001b[1m[chain:AgentExecutor > chain:RunnableSequence > llm:ChatOpenAI] Entering LLM run with input:\n",
            "\u001b[0m{\n",
            "  \"prompts\": [\n",
            "    \"System: 너는 사용자를 도와주는 훌륭한 AI 어시스턴트야.\\nHuman: what is 2.1^2.1\"\n",
            "  ]\n",
            "}\n",
            "\u001b[36;1m\u001b[1;3m[llm/end]\u001b[0m \u001b[1m[chain:AgentExecutor > chain:RunnableSequence > llm:ChatOpenAI] [606ms] Exiting LLM run with output:\n",
            "\u001b[0m{\n",
            "  \"generations\": [\n",
            "    [\n",
            "      {\n",
            "        \"text\": \"\",\n",
            "        \"generation_info\": {\n",
            "          \"finish_reason\": \"tool_calls\",\n",
            "          \"model_name\": \"gpt-3.5-turbo-0125\",\n",
            "          \"service_tier\": \"default\"\n",
            "        },\n",
            "        \"type\": \"ChatGenerationChunk\",\n",
            "        \"message\": {\n",
            "          \"lc\": 1,\n",
            "          \"type\": \"constructor\",\n",
            "          \"id\": [\n",
            "            \"langchain\",\n",
            "            \"schema\",\n",
            "            \"messages\",\n",
            "            \"AIMessageChunk\"\n",
            "          ],\n",
            "          \"kwargs\": {\n",
            "            \"content\": \"\",\n",
            "            \"additional_kwargs\": {\n",
            "              \"tool_calls\": [\n",
            "                {\n",
            "                  \"index\": 0,\n",
            "                  \"id\": \"call_Nsww8gzDlOnqZuI3n3soaVK1\",\n",
            "                  \"function\": {\n",
            "                    \"arguments\": \"{\\\"__arg1\\\":\\\"2.1^2.1\\\"}\",\n",
            "                    \"name\": \"calculator\"\n",
            "                  },\n",
            "                  \"type\": \"function\"\n",
            "                }\n",
            "              ]\n",
            "            },\n",
            "            \"response_metadata\": {\n",
            "              \"finish_reason\": \"tool_calls\",\n",
            "              \"model_name\": \"gpt-3.5-turbo-0125\",\n",
            "              \"service_tier\": \"default\"\n",
            "            },\n",
            "            \"type\": \"AIMessageChunk\",\n",
            "            \"id\": \"run--1bfd6232-9f82-414f-ac91-cd3ad9c4f652\",\n",
            "            \"tool_calls\": [\n",
            "              {\n",
            "                \"name\": \"calculator\",\n",
            "                \"args\": {\n",
            "                  \"__arg1\": \"2.1^2.1\"\n",
            "                },\n",
            "                \"id\": \"call_Nsww8gzDlOnqZuI3n3soaVK1\",\n",
            "                \"type\": \"tool_call\"\n",
            "              }\n",
            "            ],\n",
            "            \"tool_call_chunks\": [\n",
            "              {\n",
            "                \"name\": \"calculator\",\n",
            "                \"args\": \"{\\\"__arg1\\\":\\\"2.1^2.1\\\"}\",\n",
            "                \"id\": \"call_Nsww8gzDlOnqZuI3n3soaVK1\",\n",
            "                \"index\": 0,\n",
            "                \"type\": \"tool_call_chunk\"\n",
            "              }\n",
            "            ],\n",
            "            \"invalid_tool_calls\": []\n",
            "          }\n",
            "        }\n",
            "      }\n",
            "    ]\n",
            "  ],\n",
            "  \"llm_output\": null,\n",
            "  \"run\": null,\n",
            "  \"type\": \"LLMResult\"\n",
            "}\n",
            "\u001b[32;1m\u001b[1;3m[chain/start]\u001b[0m \u001b[1m[chain:AgentExecutor > chain:RunnableSequence > parser:ToolsAgentOutputParser] Entering Parser run with input:\n",
            "\u001b[0m[inputs]\n",
            "\u001b[36;1m\u001b[1;3m[chain/end]\u001b[0m \u001b[1m[chain:AgentExecutor > chain:RunnableSequence > parser:ToolsAgentOutputParser] [1ms] Exiting Parser run with output:\n",
            "\u001b[0m[outputs]\n",
            "\u001b[36;1m\u001b[1;3m[chain/end]\u001b[0m \u001b[1m[chain:AgentExecutor > chain:RunnableSequence] [617ms] Exiting Chain run with output:\n",
            "\u001b[0m[outputs]\n",
            "\u001b[32;1m\u001b[1;3m[tool/start]\u001b[0m \u001b[1m[chain:AgentExecutor > tool:calculator] Entering Tool run with input:\n",
            "\u001b[0m\"2.1^2.1\"\n",
            "\u001b[32;1m\u001b[1;3m[chain/start]\u001b[0m \u001b[1m[chain:AgentExecutor > tool:calculator > chain:LLMMathChain] Entering Chain run with input:\n",
            "\u001b[0m{\n",
            "  \"question\": \"2.1^2.1\"\n",
            "}\n",
            "\u001b[32;1m\u001b[1;3m[chain/start]\u001b[0m \u001b[1m[chain:AgentExecutor > tool:calculator > chain:LLMMathChain > chain:LLMChain] Entering Chain run with input:\n",
            "\u001b[0m{\n",
            "  \"question\": \"2.1^2.1\",\n",
            "  \"stop\": [\n",
            "    \"```output\"\n",
            "  ]\n",
            "}\n",
            "\u001b[32;1m\u001b[1;3m[llm/start]\u001b[0m \u001b[1m[chain:AgentExecutor > tool:calculator > chain:LLMMathChain > chain:LLMChain > llm:OpenAI] Entering LLM run with input:\n",
            "\u001b[0m{\n",
            "  \"prompts\": [\n",
            "    \"Translate a math problem into a expression that can be executed using Python's numexpr library. Use the output of running this code to answer the question.\\n\\nQuestion: ${Question with math problem.}\\n```text\\n${single line mathematical expression that solves the problem}\\n```\\n...numexpr.evaluate(text)...\\n```output\\n${Output of running the code}\\n```\\nAnswer: ${Answer}\\n\\nBegin.\\n\\nQuestion: What is 37593 * 67?\\n```text\\n37593 * 67\\n```\\n...numexpr.evaluate(\\\"37593 * 67\\\")...\\n```output\\n2518731\\n```\\nAnswer: 2518731\\n\\nQuestion: 37593^(1/5)\\n```text\\n37593**(1/5)\\n```\\n...numexpr.evaluate(\\\"37593**(1/5)\\\")...\\n```output\\n8.222831614237718\\n```\\nAnswer: 8.222831614237718\\n\\nQuestion: 2.1^2.1\"\n",
            "  ]\n",
            "}\n",
            "\u001b[36;1m\u001b[1;3m[llm/end]\u001b[0m \u001b[1m[chain:AgentExecutor > tool:calculator > chain:LLMMathChain > chain:LLMChain > llm:OpenAI] [937ms] Exiting LLM run with output:\n",
            "\u001b[0m{\n",
            "  \"generations\": [\n",
            "    [\n",
            "      {\n",
            "        \"text\": \"```text\\n2.1**2.1\\n```\\n...numexpr.evaluate(\\\"2.1**2.1\\\")...\\n\",\n",
            "        \"generation_info\": {\n",
            "          \"finish_reason\": \"stop\",\n",
            "          \"logprobs\": null\n",
            "        },\n",
            "        \"type\": \"Generation\"\n",
            "      }\n",
            "    ]\n",
            "  ],\n",
            "  \"llm_output\": {\n",
            "    \"token_usage\": {\n",
            "      \"completion_tokens\": 27,\n",
            "      \"prompt_tokens\": 200,\n",
            "      \"total_tokens\": 227\n",
            "    },\n",
            "    \"model_name\": \"gpt-3.5-turbo-instruct\"\n",
            "  },\n",
            "  \"run\": null,\n",
            "  \"type\": \"LLMResult\"\n",
            "}\n",
            "\u001b[36;1m\u001b[1;3m[chain/end]\u001b[0m \u001b[1m[chain:AgentExecutor > tool:calculator > chain:LLMMathChain > chain:LLMChain] [947ms] Exiting Chain run with output:\n",
            "\u001b[0m{\n",
            "  \"text\": \"```text\\n2.1**2.1\\n```\\n...numexpr.evaluate(\\\"2.1**2.1\\\")...\\n\"\n",
            "}\n",
            "\u001b[36;1m\u001b[1;3m[chain/end]\u001b[0m \u001b[1m[chain:AgentExecutor > tool:calculator > chain:LLMMathChain] [948ms] Exiting Chain run with output:\n",
            "\u001b[0m{\n",
            "  \"answer\": \"Answer: 4.749638091742242\"\n",
            "}\n",
            "\u001b[36;1m\u001b[1;3m[tool/end]\u001b[0m \u001b[1m[chain:AgentExecutor > tool:calculator] [949ms] Exiting Tool run with output:\n",
            "\u001b[0m\"Answer: 4.749638091742242\"\n",
            "\u001b[32;1m\u001b[1;3m[chain/start]\u001b[0m \u001b[1m[chain:AgentExecutor > chain:RunnableSequence] Entering Chain run with input:\n",
            "\u001b[0m{\n",
            "  \"input\": \"\"\n",
            "}\n",
            "\u001b[32;1m\u001b[1;3m[chain/start]\u001b[0m \u001b[1m[chain:AgentExecutor > chain:RunnableSequence > chain:RunnableAssign<agent_scratchpad>] Entering Chain run with input:\n",
            "\u001b[0m{\n",
            "  \"input\": \"\"\n",
            "}\n",
            "\u001b[32;1m\u001b[1;3m[chain/start]\u001b[0m \u001b[1m[chain:AgentExecutor > chain:RunnableSequence > chain:RunnableAssign<agent_scratchpad> > chain:RunnableParallel<agent_scratchpad>] Entering Chain run with input:\n",
            "\u001b[0m{\n",
            "  \"input\": \"\"\n",
            "}\n",
            "\u001b[32;1m\u001b[1;3m[chain/start]\u001b[0m \u001b[1m[chain:AgentExecutor > chain:RunnableSequence > chain:RunnableAssign<agent_scratchpad> > chain:RunnableParallel<agent_scratchpad> > chain:RunnableLambda] Entering Chain run with input:\n",
            "\u001b[0m{\n",
            "  \"input\": \"\"\n",
            "}\n",
            "\u001b[36;1m\u001b[1;3m[chain/end]\u001b[0m \u001b[1m[chain:AgentExecutor > chain:RunnableSequence > chain:RunnableAssign<agent_scratchpad> > chain:RunnableParallel<agent_scratchpad> > chain:RunnableLambda] [7ms] Exiting Chain run with output:\n",
            "\u001b[0m[outputs]\n",
            "\u001b[36;1m\u001b[1;3m[chain/end]\u001b[0m \u001b[1m[chain:AgentExecutor > chain:RunnableSequence > chain:RunnableAssign<agent_scratchpad> > chain:RunnableParallel<agent_scratchpad>] [15ms] Exiting Chain run with output:\n",
            "\u001b[0m[outputs]\n",
            "\u001b[36;1m\u001b[1;3m[chain/end]\u001b[0m \u001b[1m[chain:AgentExecutor > chain:RunnableSequence > chain:RunnableAssign<agent_scratchpad>] [24ms] Exiting Chain run with output:\n",
            "\u001b[0m[outputs]\n",
            "\u001b[32;1m\u001b[1;3m[chain/start]\u001b[0m \u001b[1m[chain:AgentExecutor > chain:RunnableSequence > prompt:ChatPromptTemplate] Entering Prompt run with input:\n",
            "\u001b[0m[inputs]\n",
            "\u001b[36;1m\u001b[1;3m[chain/end]\u001b[0m \u001b[1m[chain:AgentExecutor > chain:RunnableSequence > prompt:ChatPromptTemplate] [1ms] Exiting Prompt run with output:\n",
            "\u001b[0m[outputs]\n",
            "\u001b[32;1m\u001b[1;3m[llm/start]\u001b[0m \u001b[1m[chain:AgentExecutor > chain:RunnableSequence > llm:ChatOpenAI] Entering LLM run with input:\n",
            "\u001b[0m{\n",
            "  \"prompts\": [\n",
            "    \"System: 너는 사용자를 도와주는 훌륭한 AI 어시스턴트야.\\nHuman: what is 2.1^2.1\\nAI: \\nTool: Answer: 4.749638091742242\"\n",
            "  ]\n",
            "}\n",
            "\u001b[36;1m\u001b[1;3m[llm/end]\u001b[0m \u001b[1m[chain:AgentExecutor > chain:RunnableSequence > llm:ChatOpenAI] [958ms] Exiting LLM run with output:\n",
            "\u001b[0m{\n",
            "  \"generations\": [\n",
            "    [\n",
            "      {\n",
            "        \"text\": \"The result of \\\\(2.1^{2.1}\\\\) is approximately 4.749638091742242.\",\n",
            "        \"generation_info\": {\n",
            "          \"finish_reason\": \"stop\",\n",
            "          \"model_name\": \"gpt-3.5-turbo-0125\",\n",
            "          \"service_tier\": \"default\"\n",
            "        },\n",
            "        \"type\": \"ChatGenerationChunk\",\n",
            "        \"message\": {\n",
            "          \"lc\": 1,\n",
            "          \"type\": \"constructor\",\n",
            "          \"id\": [\n",
            "            \"langchain\",\n",
            "            \"schema\",\n",
            "            \"messages\",\n",
            "            \"AIMessageChunk\"\n",
            "          ],\n",
            "          \"kwargs\": {\n",
            "            \"content\": \"The result of \\\\(2.1^{2.1}\\\\) is approximately 4.749638091742242.\",\n",
            "            \"response_metadata\": {\n",
            "              \"finish_reason\": \"stop\",\n",
            "              \"model_name\": \"gpt-3.5-turbo-0125\",\n",
            "              \"service_tier\": \"default\"\n",
            "            },\n",
            "            \"type\": \"AIMessageChunk\",\n",
            "            \"id\": \"run--832b48e8-8202-4b1f-839a-b059e16a03c5\",\n",
            "            \"tool_calls\": [],\n",
            "            \"invalid_tool_calls\": []\n",
            "          }\n",
            "        }\n",
            "      }\n",
            "    ]\n",
            "  ],\n",
            "  \"llm_output\": null,\n",
            "  \"run\": null,\n",
            "  \"type\": \"LLMResult\"\n",
            "}\n",
            "\u001b[32;1m\u001b[1;3m[chain/start]\u001b[0m \u001b[1m[chain:AgentExecutor > chain:RunnableSequence > parser:ToolsAgentOutputParser] Entering Parser run with input:\n",
            "\u001b[0m[inputs]\n",
            "\u001b[36;1m\u001b[1;3m[chain/end]\u001b[0m \u001b[1m[chain:AgentExecutor > chain:RunnableSequence > parser:ToolsAgentOutputParser] [1ms] Exiting Parser run with output:\n",
            "\u001b[0m[outputs]\n",
            "\u001b[36;1m\u001b[1;3m[chain/end]\u001b[0m \u001b[1m[chain:AgentExecutor > chain:RunnableSequence] [987ms] Exiting Chain run with output:\n",
            "\u001b[0m[outputs]\n",
            "\u001b[36;1m\u001b[1;3m[chain/end]\u001b[0m \u001b[1m[chain:AgentExecutor] [2.56s] Exiting Chain run with output:\n",
            "\u001b[0m{\n",
            "  \"output\": \"The result of \\\\(2.1^{2.1}\\\\) is approximately 4.749638091742242.\"\n",
            "}\n"
          ]
        },
        {
          "output_type": "execute_result",
          "data": {
            "text/plain": [
              "{'input': 'what is 2.1^2.1',\n",
              " 'output': 'The result of \\\\(2.1^{2.1}\\\\) is approximately 4.749638091742242.'}"
            ]
          },
          "metadata": {},
          "execution_count": 21
        }
      ]
    },
    {
      "cell_type": "markdown",
      "source": [
        "## 툴을 생성하는 방법\n",
        "\n",
        "- 1. tool 데코레이터 사용하기\n",
        "- 2. StructuredTool 이라는 클래스를 사용(복잡)"
      ],
      "metadata": {
        "id": "wI-BkSPkFnAg"
      }
    },
    {
      "cell_type": "code",
      "source": [
        "# tool 데코레이터를 사용해서 일반 함수를 '툴'로 인지시키기 위함\n",
        "from langchain.tools import tool\n",
        "\n",
        "# @(at) 파이썬에서는 얘를 데코레이터라고 함\n",
        "# 함수, 클래스에 특정한 '기능을 추가하겠다'라는 약속\n",
        "# @app.route() / @staticmethod\n",
        "@tool\n",
        "def write_mail(to:str, subject:str, content:str) -> str:\n",
        "    \"\"\"Write and Send an email\"\"\" # 툴에 대한 설명을 반드시 해줘야 함\n",
        "    return f\"Email sent to {to} with subject {subject}, and {content}\"\n",
        "\n",
        "type(write_mail)"
      ],
      "metadata": {
        "colab": {
          "base_uri": "https://localhost:8080/",
          "height": 121
        },
        "id": "MSflYwCyCm6D",
        "outputId": "a078fba6-bb55-433b-ad21-b6a0c3ae456d"
      },
      "execution_count": 22,
      "outputs": [
        {
          "output_type": "execute_result",
          "data": {
            "text/plain": [
              "langchain_core.tools.structured.StructuredTool"
            ],
            "text/html": [
              "<div style=\"max-width:800px; border: 1px solid var(--colab-border-color);\"><style>\n",
              "      pre.function-repr-contents {\n",
              "        overflow-x: auto;\n",
              "        padding: 8px 12px;\n",
              "        max-height: 500px;\n",
              "      }\n",
              "\n",
              "      pre.function-repr-contents.function-repr-contents-collapsed {\n",
              "        cursor: pointer;\n",
              "        max-height: 100px;\n",
              "      }\n",
              "    </style>\n",
              "    <pre style=\"white-space: initial; background:\n",
              "         var(--colab-secondary-surface-color); padding: 8px 12px;\n",
              "         border-bottom: 1px solid var(--colab-border-color);\"><b>langchain_core.tools.structured.StructuredTool</b><br/>def warning_emitting_wrapper(*args: Any, **kwargs: Any) -&gt; Any</pre><pre class=\"function-repr-contents function-repr-contents-collapsed\" style=\"\"><a class=\"filepath\" style=\"display:none\" href=\"#\">/usr/local/lib/python3.12/dist-packages/langchain_core/tools/structured.py</a>Tool that can operate on any number of inputs.</pre>\n",
              "      <script>\n",
              "      if (google.colab.kernel.accessAllowed && google.colab.files && google.colab.files.view) {\n",
              "        for (const element of document.querySelectorAll('.filepath')) {\n",
              "          element.style.display = 'block'\n",
              "          element.onclick = (event) => {\n",
              "            event.preventDefault();\n",
              "            event.stopPropagation();\n",
              "            google.colab.files.view(element.textContent, 39);\n",
              "          };\n",
              "        }\n",
              "      }\n",
              "      for (const element of document.querySelectorAll('.function-repr-contents')) {\n",
              "        element.onclick = (event) => {\n",
              "          event.preventDefault();\n",
              "          event.stopPropagation();\n",
              "          element.classList.toggle('function-repr-contents-collapsed');\n",
              "        };\n",
              "      }\n",
              "      </script>\n",
              "      </div>"
            ]
          },
          "metadata": {},
          "execution_count": 22
        }
      ]
    },
    {
      "cell_type": "code",
      "source": [
        "#만든 툴을 사용하자!\n",
        "from langchain.chat_models import init_chat_model\n",
        "\n",
        "#다양한 api를 넘나들며 쓸 수 있다.\n",
        "llm = init_chat_model('openai:gpt-4.1', temperature=0)\n",
        "\n",
        "#llm에 tools을 바인딩해줌\n",
        "#tool_choice = 'any' llm이 필요한 도구(tool)을 자유롭게 선택해서 활용하세요. //none(툴 사용 X), auto(자동 판단)\n",
        "#parallel_tool_calls = 에이전트가 한번에 '한개'/'여러개' 의 도구를 사용할 수 있게 함\n",
        "model_with_tools = llm.bind_tools([write_mail],\n",
        "                                  tool_choice='any',\n",
        "                                  parallel_tool_calls=False)\n",
        "\n",
        "output = model_with_tools.invoke(\"Draft a response to my coworker(jeongeunswd@gmail.com) about today's LangGraph lecture\")\n",
        "print(output)"
      ],
      "metadata": {
        "colab": {
          "base_uri": "https://localhost:8080/"
        },
        "id": "wheyUYuFHjd_",
        "outputId": "96b51fab-f54c-46c9-81a1-876841373fe5"
      },
      "execution_count": 25,
      "outputs": [
        {
          "output_type": "stream",
          "name": "stdout",
          "text": [
            "content='' additional_kwargs={'tool_calls': [{'id': 'call_q75Sa29XckUVsaqgR8jFnWfg', 'function': {'arguments': '{\"to\":\"jeongeunswd@gmail.com\",\"subject\":\"Re: Today\\'s LangGraph Lecture\",\"content\":\"Hi Jeongeun,\\\\n\\\\nThank you for reaching out about today\\'s LangGraph lecture. I found the session quite insightful, especially the parts about graph-based workflow orchestration and how LangGraph integrates with LLMs. If you have any specific questions or want to discuss any of the topics further, let me know! I\\'d be happy to chat or share my notes.\\\\n\\\\nLooking forward to hearing your thoughts on the lecture.\\\\n\\\\nBest,\\\\n[Your Name]\"}', 'name': 'write_mail'}, 'type': 'function'}], 'refusal': None} response_metadata={'token_usage': {'completion_tokens': 126, 'prompt_tokens': 71, 'total_tokens': 197, 'completion_tokens_details': {'accepted_prediction_tokens': 0, 'audio_tokens': 0, 'reasoning_tokens': 0, 'rejected_prediction_tokens': 0}, 'prompt_tokens_details': {'audio_tokens': 0, 'cached_tokens': 0}}, 'model_name': 'gpt-4.1-2025-04-14', 'system_fingerprint': 'fp_3502f4eb73', 'id': 'chatcmpl-C8IonqZoSBxXlAMuiLS9HXsdO2d6K', 'service_tier': 'default', 'finish_reason': 'tool_calls', 'logprobs': None} id='run--d833e30c-bd27-4574-a5f8-669d08ace106-0' tool_calls=[{'name': 'write_mail', 'args': {'to': 'jeongeunswd@gmail.com', 'subject': \"Re: Today's LangGraph Lecture\", 'content': \"Hi Jeongeun,\\n\\nThank you for reaching out about today's LangGraph lecture. I found the session quite insightful, especially the parts about graph-based workflow orchestration and how LangGraph integrates with LLMs. If you have any specific questions or want to discuss any of the topics further, let me know! I'd be happy to chat or share my notes.\\n\\nLooking forward to hearing your thoughts on the lecture.\\n\\nBest,\\n[Your Name]\"}, 'id': 'call_q75Sa29XckUVsaqgR8jFnWfg', 'type': 'tool_call'}] usage_metadata={'input_tokens': 71, 'output_tokens': 126, 'total_tokens': 197, 'input_token_details': {'audio': 0, 'cache_read': 0}, 'output_token_details': {'audio': 0, 'reasoning': 0}}\n"
          ]
        }
      ]
    },
    {
      "cell_type": "code",
      "source": [
        "output.tool_calls[0]['args']"
      ],
      "metadata": {
        "colab": {
          "base_uri": "https://localhost:8080/"
        },
        "id": "piNCMsLKaf2b",
        "outputId": "be26fa74-b653-4140-bfd8-50994e1b15c0"
      },
      "execution_count": 26,
      "outputs": [
        {
          "output_type": "execute_result",
          "data": {
            "text/plain": [
              "{'to': 'jeongeunswd@gmail.com',\n",
              " 'subject': \"Re: Today's LangGraph Lecture\",\n",
              " 'content': \"Hi Jeongeun,\\n\\nThank you for reaching out about today's LangGraph lecture. I found the session quite insightful, especially the parts about graph-based workflow orchestration and how LangGraph integrates with LLMs. If you have any specific questions or want to discuss any of the topics further, let me know! I'd be happy to chat or share my notes.\\n\\nLooking forward to hearing your thoughts on the lecture.\\n\\nBest,\\n[Your Name]\"}"
            ]
          },
          "metadata": {},
          "execution_count": 26
        }
      ]
    },
    {
      "cell_type": "code",
      "source": [
        "result = write_mail(output.tool_calls[0]['args'])\n",
        "print(result)"
      ],
      "metadata": {
        "colab": {
          "base_uri": "https://localhost:8080/"
        },
        "id": "BgcFhwMmbNch",
        "outputId": "1dda6ad4-4892-4371-ca29-aa30a5227852"
      },
      "execution_count": 27,
      "outputs": [
        {
          "output_type": "stream",
          "name": "stdout",
          "text": [
            "Email sent to jeongeunswd@gmail.com with subject Re: Today's LangGraph Lecture, and Hi Jeongeun,\n",
            "\n",
            "Thank you for reaching out about today's LangGraph lecture. I found the session quite insightful, especially the parts about graph-based workflow orchestration and how LangGraph integrates with LLMs. If you have any specific questions or want to discuss any of the topics further, let me know! I'd be happy to chat or share my notes.\n",
            "\n",
            "Looking forward to hearing your thoughts on the lecture.\n",
            "\n",
            "Best,\n",
            "[Your Name]\n"
          ]
        },
        {
          "output_type": "stream",
          "name": "stderr",
          "text": [
            "/tmp/ipython-input-2047010431.py:1: LangChainDeprecationWarning: The method `BaseTool.__call__` was deprecated in langchain-core 0.1.47 and will be removed in 1.0. Use :meth:`~invoke` instead.\n",
            "  result = write_mail(output.tool_calls[0]['args'])\n"
          ]
        }
      ]
    },
    {
      "cell_type": "markdown",
      "source": [
        "## 랭그래프 구성 요소\n",
        "\n",
        "- agent, tool => '기능'\n",
        "- 노드(Nodes) : 정보를 어떻게 다룰 것인가(액션)\n",
        "- 엣지(Edges) : 이 노드를 어떤 순서로 연결할 것인가 (흐름)\n",
        "- 상태(State) : 랭그래프의 흐름에서 추적해야할 정보의 상태"
      ],
      "metadata": {
        "id": "aPAhkIrAcMvC"
      }
    },
    {
      "cell_type": "code",
      "source": [
        "# https://langchain-ai.github.io/langgraph/concepts/why-langgraph/\n",
        "# 1. 기본적인 챗봇을 만듦(흐름)\n",
        "# 2. 툴을 추가한다.\n",
        "# 3. 메모리를 추가한다.\n",
        "# 4. 사람 피드백을 추가한다.\n",
        "# 5. 상태(State)를 커스터마이징 한다."
      ],
      "metadata": {
        "id": "sgfoyDEcbpAp"
      },
      "execution_count": 28,
      "outputs": []
    },
    {
      "cell_type": "code",
      "source": [
        "# 상태(State)에 대한 정의\n",
        "# fastapi로 딥러닝 추론 코드 => typing/pydantic 자료형 고정시킴\n",
        "# typing/pydantic -> TypedDict가 상태에 들어갈 구성요소의 '자료형'을 고정\n",
        "from typing import TypedDict\n",
        "from langgraph.graph import StateGraph, START, END\n",
        "\n",
        "# 상태를 클래스로 만듦\n",
        "class StateSchema(TypedDict):\n",
        "    request : str\n",
        "    email : str\n",
        "\n",
        "# 나의 전체 LangGraph를 'workflow'라고 부를 것임\n",
        "# 그리고 workflow는 StateSchema라는 클래스를 상태로 가질 것임\n",
        "workflow = StateGraph(StateSchema)\n"
      ],
      "metadata": {
        "id": "kmKkhgeSeneq"
      },
      "execution_count": 30,
      "outputs": []
    },
    {
      "cell_type": "code",
      "source": [
        "# 노드 만들기\n",
        "# 매개변수, 리턴값으로 State를 컨트롤하는 클래스를 받는다.\n",
        "def write_email_node(state : StateSchema) -> StateSchema:\n",
        "    # model_with_tools -> write_mail이라는 함수를 tool로 가진 llm\n",
        "    output = model_with_tools.invoke(state['request'])\n",
        "\n",
        "    # args 안에는 to, subject, content\n",
        "    args = output.tool_calls[0]['args']\n",
        "\n",
        "    # email -> 내가 요청한(request) 내용을 반영한 메일 초안\n",
        "    email = write_mail.invoke(args)\n",
        "    return {'email':email}"
      ],
      "metadata": {
        "id": "3WV6AX0lgTeB"
      },
      "execution_count": 31,
      "outputs": []
    },
    {
      "cell_type": "code",
      "source": [
        "# 노드와 엣지를 '등록', '연결'\n",
        "# add_node -> 함수를 노드로 인식하게 등록, (노드이름, 함수이름)\n",
        "workflow.add_node('write_email',write_email_node)\n",
        "\n",
        "# START -> 노드\n",
        "# 노드 -> END\n",
        "workflow.add_edge(START, 'write_email')\n",
        "workflow.add_edge('write_email', END)\n",
        "\n",
        "# 빌드 /컴파일\n",
        "app = workflow.compile()"
      ],
      "metadata": {
        "id": "Gc_-tClkiWOG"
      },
      "execution_count": 32,
      "outputs": []
    },
    {
      "cell_type": "code",
      "source": [
        "from IPython.display import Image, display\n",
        "\n",
        "try:\n",
        "  #우리가 만든 app의 graph를 이미지로 그려서 display()로 감싸 출력하는 함수\n",
        "  display(Image(app.get_graph().draw_mermaid_png()))\n",
        "except Exception:\n",
        "  pass"
      ],
      "metadata": {
        "colab": {
          "base_uri": "https://localhost:8080/",
          "height": 251
        },
        "id": "em5LBEJ9ji_y",
        "outputId": "a5265b0b-7b9a-4b96-f3bf-ec1ea19fbd2c"
      },
      "execution_count": 33,
      "outputs": [
        {
          "output_type": "display_data",
          "data": {
            "image/png": "[encoded data removed]",
            "text/plain": [
              "<IPython.core.display.Image object>"
            ]
          },
          "metadata": {}
        }
      ]
    },
    {
      "cell_type": "code",
      "source": [
        "# START -> LLM -> (조건 판단) -> tool -> END\n",
        "#                             -> ------> END\n",
        "from typing import Literal\n",
        "from langgraph.graph import MessagesState   # 위에 예제의 'StateGraph'역할을 대신 수행\n",
        "\n",
        "# 1. LLM 노드를 구성할 함수 만들기\n",
        "def call_LLM(state : MessagesState) -> MessagesState:\n",
        "    \"\"\"Run LLM\"\"\" # doctring(노드의 역할 설명)\n",
        "    output = model_with_tools.invoke(state['messages'])\n",
        "    return {'messages':[output]}\n",
        "\n",
        "# def write_email_node(state : StateSchema) -> StateSchema:\n",
        "#     # model_with_tools -> write_mail이라는 함수를 tool로 가진 llm\n",
        "#     output = model_with_tools.invoke(state['request'])\n",
        "\n",
        "#     # args 안에는 to, subject, content\n",
        "#     args = output.tool_calls[0]['args']\n",
        "\n",
        "#     # email -> 내가 요청한(request) 내용을 반영한 메일 초안\n",
        "#     email = write_mail.invoke(args)\n",
        "#     return {'email':email}\n",
        "\n",
        "# 2. tool을 사용하는 노드를 구성하는 함수 만들기\n",
        "def call_Tool(state : MessagesState) -> MessagesState:\n",
        "    \"\"\"Play the tool function\"\"\"\n",
        "    # 툴을 썼을 때, 툴에 to, subject, content라는 요소/tool을 써서 어떻게 했다~ 라는 결과를 남겨놓 기 위해\n",
        "    result = []\n",
        "    # state['messages'][-1] == output\n",
        "    for tool in state['messages'][-1].tool_calls:\n",
        "        observations = write_mail.invoke(tool['args'])\n",
        "        result.append({'role':'tool', 'content':observations, 'tool_call_id':tool['id']})\n",
        "    return {'messages':result}"
      ],
      "metadata": {
        "id": "LoCJxT3Zjq-M"
      },
      "execution_count": 36,
      "outputs": []
    },
    {
      "cell_type": "code",
      "source": [
        "# START -> LLM -> (조건 판단) -> tool -> END\n",
        "#                             -> ------> END\n",
        "# 조건분기 판단 **리턴값이 특이함\n",
        "# __init__ : 던더 함수(매직 메서드)\n",
        "# END = __end__\n",
        "def flow_check(state:MessagesState) -> Literal['call_Tool', '__end__']:\n",
        "    \"\"\"Route to tool handling, or end if don't need tool call\"\"\"\n",
        "    message = state['messages']\n",
        "    latest = message[-1]    # 상태 그래프가 가지고 있는 가장 최신의 정보를 get\n",
        "\n",
        "    # 'tool을 call'했던 이력이 있냐 없냐? 있으면 -> call_tool, 없으면 -> END\n",
        "    if latest.tool_calls:\n",
        "        return 'call_Tool'\n",
        "    else:\n",
        "        return END"
      ],
      "metadata": {
        "id": "QPzy5c_nrU8H"
      },
      "execution_count": 39,
      "outputs": []
    },
    {
      "cell_type": "code",
      "source": [
        "#노드를 순서대로 엮자!\n",
        "#1. 상태 그래프를 정의한다.\n",
        "workflow = StateGraph(MessagesState)\n",
        "\n",
        "#2. 노드를 등록한다.\n",
        "workflow.add_node('call_LLM', call_LLM)\n",
        "workflow.add_node('call_Tool', call_Tool)\n",
        "\n",
        "#3. 조건분기 등록\n",
        "#컨디셔널엣지(시작점, 분기함수, {결과1:결과노드, 결과2:결과노드})\n",
        "workflow.add_conditional_edges('call_LLM', flow_check, {'call_Tool':'call_Tool', END:END})\n",
        "\n",
        "#4. 나머지 엣지 연결\n",
        "workflow.add_edge(START, 'call_LLM')\n",
        "workflow.add_edge('call_Tool', END)\n",
        "\n",
        "app = workflow.compile()"
      ],
      "metadata": {
        "id": "xLtqLnmcuVW4"
      },
      "execution_count": 43,
      "outputs": []
    },
    {
      "cell_type": "code",
      "source": [
        "result = app.invoke({\"messages\": [{\"role\": \"user\", \"content\": \"Draft a response to my coworker(jeongeunswd@gmail) confirming that I want to attend Interrupt!\"}]})\n",
        "for m in result[\"messages\"]:\n",
        "    m.pretty_print()"
      ],
      "metadata": {
        "colab": {
          "base_uri": "https://localhost:8080/"
        },
        "id": "_GB9YAr4wSSg",
        "outputId": "90926d83-34ea-48d5-c05e-3f8d60715e12"
      },
      "execution_count": 44,
      "outputs": [
        {
          "output_type": "stream",
          "name": "stdout",
          "text": [
            "================================\u001b[1m Human Message \u001b[0m=================================\n",
            "\n",
            "Draft a response to my coworker(jeongeunswd@gmail) confirming that I want to attend Interrupt!\n",
            "==================================\u001b[1m Ai Message \u001b[0m==================================\n",
            "Tool Calls:\n",
            "  write_mail (call_Agosg7FMbzo3JpiHJzxDHKTc)\n",
            " Call ID: call_Agosg7FMbzo3JpiHJzxDHKTc\n",
            "  Args:\n",
            "    to: jeongeunswd@gmail\n",
            "    subject: Re: Interrupt! Attendance\n",
            "    content: Hi,\n",
            "\n",
            "Thank you for letting me know about Interrupt! I’d like to confirm that I want to attend. Please let me know if there’s anything I need to prepare or any further details I should know.\n",
            "\n",
            "Looking forward to it!\n",
            "\n",
            "Best,\n",
            "[Your Name]\n",
            "=================================\u001b[1m Tool Message \u001b[0m=================================\n",
            "\n",
            "Email sent to jeongeunswd@gmail with subject Re: Interrupt! Attendance, and Hi,\n",
            "\n",
            "Thank you for letting me know about Interrupt! I’d like to confirm that I want to attend. Please let me know if there’s anything I need to prepare or any further details I should know.\n",
            "\n",
            "Looking forward to it!\n",
            "\n",
            "Best,\n",
            "[Your Name]\n"
          ]
        }
      ]
    }
  ]
}